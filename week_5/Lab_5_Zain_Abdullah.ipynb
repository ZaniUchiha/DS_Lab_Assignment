{
 "cells": [
  {
   "cell_type": "markdown",
   "id": "4f5f8013-45b5-4ce1-9dc2-0f71a16b55b4",
   "metadata": {},
   "source": [
    "# Task 1\n",
    "This code demonstrates a simple queue implementation using a Python list, where elements are added at the end using append() (enqueue) and removed from the front using pop(0) (dequeue), following the **FIFO** — First In, First Out principle."
   ]
  },
  {
   "cell_type": "code",
   "execution_count": 12,
   "id": "2ec51fd7-92d2-4c6e-b01f-127299e97f60",
   "metadata": {},
   "outputs": [
    {
     "name": "stdout",
     "output_type": "stream",
     "text": [
      "Start: []\n",
      "After enque A: ['A']\n",
      "After enque B: ['A', 'B']\n",
      "After enque C: ['A', 'B', 'C']\n",
      "After deque-> A | Queue: ['B', 'C']\n",
      "After deque-> B | Queue: ['C']\n",
      "After deque-> C | Queue: []\n",
      "Removal order: A B C\n"
     ]
    }
   ],
   "source": [
    "q = []\n",
    "print(\"Start:\", q)  #printing queue at start\n",
    "q.append('A')  #append A\n",
    "print(f\"After enque A: {q}\")\n",
    "q.append('B')       #append B\n",
    "print(f\"After enque B: {q}\")\n",
    "q.append('C')    #append C\n",
    "print(f\"After enque C: {q}\")\n",
    "\n",
    "out1 = q.pop(0)       #dequeue A\n",
    "print(f\"After deque-> {out1} | Queue: {q}\")\n",
    "\n",
    "out2 = q.pop(0)     #dequeue B\n",
    "print(f\"After deque-> {out2} | Queue: {q}\")\n",
    "\n",
    "out3 = q.pop(0)        #dequeue C\n",
    "print(f\"After deque-> {out3} | Queue: {q}\")\n",
    "\n",
    "print(f\"Removal order: {out1} {out2} {out3}\")     #printing removal order"
   ]
  },
  {
   "cell_type": "markdown",
   "id": "2efb5419-6e6b-4a08-9a4f-9c228405a49a",
   "metadata": {},
   "source": [
    "# Task 2\n",
    "This code defines a simple Queue class in Python that uses a list to implement basic queue operations — enqueue (add to end), dequeue (remove from front), front (peek first element), and is_empty (check if queue is empty) — **all following the FIFO (First In, First Out) principle**."
   ]
  },
  {
   "cell_type": "code",
   "execution_count": 13,
   "id": "2c9d2d3c-824f-4f13-b488-644e06fb5704",
   "metadata": {},
   "outputs": [
    {
     "name": "stdout",
     "output_type": "stream",
     "text": [
      "init->[]\n",
      "Enqueue(10)-> [10]\n",
      "Enqueue(20)-> [10, 20]\n",
      "Dequeue->10 | [20]\n",
      "Front()->20 | [20]\n",
      "is_empty -> False\n"
     ]
    }
   ],
   "source": [
    "class Queue:\n",
    "    def __init__(self):\n",
    "        self.items = []\n",
    "        print(f\"init->{self.items}\")\n",
    "    def is_empty(self):\n",
    "        return len(self.items)==0\n",
    "    def enqueue(self , x):\n",
    "        self.items.append(x)\n",
    "        print(f\"Enqueue({x})-> {self.items}\")\n",
    "    def dequeue(self):\n",
    "        if self.is_empty():\n",
    "            print(f\"Dequeue-> Underflow(none) | {self.itmes}\")\n",
    "            return\n",
    "        val = self.items.pop(0)\n",
    "        print(f\"Dequeue->{val} | {self.items}\")\n",
    "        return val\n",
    "    def front(self):\n",
    "        if self.is_empty():\n",
    "            print(f\"front()->none | {self.items}\")\n",
    "            return\n",
    "        print(f\"Front()->{self.items[0]} | {self.items}\")\n",
    "        return self.items[0]\n",
    "\n",
    "\n",
    "q = Queue()\n",
    "q.enqueue(10)\n",
    "q.enqueue(20)\n",
    "_ = q.dequeue() # expect 10\n",
    "__= q.front() # expect 20\n",
    "print('is_empty ->', q.is_empty()) # expect False"
   ]
  },
  {
   "cell_type": "markdown",
   "id": "ae343a3b-0202-4a70-aae3-f85160f39b4f",
   "metadata": {},
   "source": [
    "# Task 3\n",
    "This code defines an Array-based Queue (ArrayQueue) with a fixed size, implementing queue operations using a list and index tracking (front, rear, and count).\n",
    "It follows the **FIFO (First In, First Out)** principle, but since it’s not circular, dequeued spaces at the front become wasted memory slots, which the demo shows after removing elements."
   ]
  },
  {
   "cell_type": "code",
   "execution_count": 14,
   "id": "c3b7d96a-7470-4e08-942e-7de1ddd62f80",
   "metadata": {},
   "outputs": [
    {
     "name": "stdout",
     "output_type": "stream",
     "text": [
      "dequeue -> 10\n",
      "dequeue -> 20\n",
      "front -> 30\n",
      "state -> count= 1 front= 2 rear= 2\n",
      "active -> [30]\n"
     ]
    }
   ],
   "source": [
    "# ...existing code...\n",
    "class ArrayQueue:\n",
    "    def __init__(self , size):\n",
    "        # initialize fixed-size queueA\n",
    "        self.size = size\n",
    "        self.items =  [None]*size\n",
    "        self.front = 0\n",
    "        self.rear = -1\n",
    "        self.count = 0\n",
    "    def is_empty(self):\n",
    "        # return True if queue has no items\n",
    "        return self.count == 0\n",
    "    def if_full(self):\n",
    "        # return True if queue reached capacity\n",
    "        return self.count ==self.size\n",
    "    def enqueue(self , item):\n",
    "        # add item to rear; print and return False on overflow\n",
    "        if self.if_full():\n",
    "            print(\"Overflow\")\n",
    "            return False\n",
    "        self.rear += 1\n",
    "        self.items[self.rear] = item\n",
    "        self.count +=1\n",
    "        return True\n",
    "    def dequeue(self):\n",
    "        # remove and return front item; print and return None on underflow\n",
    "        if self.is_empty():\n",
    "            print(\"UnderFlow\")\n",
    "            return None\n",
    "        val = self.items[self.front]\n",
    "        self.front +=1\n",
    "        self.count -=1\n",
    "        return val\n",
    "    def front_val(self):\n",
    "        # return front item without removing, or None if empty\n",
    "        if self.is_empty():\n",
    "            return None\n",
    "        return self.items[self.front]\n",
    "# demo: show wasted space after dequeues\n",
    "aq = ArrayQueue(5)\n",
    "aq.enqueue(10); aq.enqueue(20); aq.enqueue(30)\n",
    "print('dequeue ->', aq.dequeue()) # remove 10\n",
    "print('dequeue ->', aq.dequeue()) # remove 20\n",
    "print('front ->', aq.front_val()) # expect 30\n",
    "print('state ->', 'count=', aq.count, 'front=', aq.front, 'rear=', aq.rear)\n",
    "print('active ->', aq.items[aq.front:aq.rear+1]) # logical active window\n",
    "# ...existing code..."
   ]
  },
  {
   "cell_type": "markdown",
   "id": "5502b1dc-c98d-47b0-bb67-167e15fc4e0a",
   "metadata": {},
   "source": [
    "# Task 4\n",
    "🧩 Circular Queue Logic (Short Summary)\n",
    "\n",
    "A circular queue allows reuse of empty space using the modulo operator (%).\n",
    "**rear = (rear + 1) % size\n",
    "front = (front + 1) % size**\n",
    "This means when the index reaches the end (like 4 in size 5),\n",
    "**(4 + 1) % 5 = 0** — so it wraps back to start.\n",
    "That’s how the queue “circles” through the array instead of wasting space."
   ]
  },
  {
   "cell_type": "code",
   "execution_count": 15,
   "id": "c4fc7ae7-b427-4598-abb4-28284322553b",
   "metadata": {},
   "outputs": [
    {
     "name": "stdout",
     "output_type": "stream",
     "text": [
      "start -> [10, 20, 30, 40]\n",
      "dequeue -> 10\n",
      "dequeue -> 20\n",
      "mid -> [30, 40]\n",
      "after -> [30, 40, 50, 60]\n",
      "front -> 30\n",
      "state -> front= 2 rear= 0 count= 4\n"
     ]
    }
   ],
   "source": [
    "# ...existing code...\n",
    "class CircularQueue:\n",
    "    # simple fixed-size circular queue\n",
    "    def __init__(self , size):\n",
    "        # set capacity and allocate storage\n",
    "        self.size = size\n",
    "        self.items = [None]*size\n",
    "        self.front = 0    # index of next dequeue\n",
    "        self.rear = -1    # index of last enqueued item\n",
    "        self.count = 0    # number of items in queue\n",
    "    def is_empty(self):\n",
    "        # True when no items\n",
    "        return self.count == 0\n",
    "    def is_full(self):\n",
    "        # True when at capacity\n",
    "        return self.count == self.size\n",
    "    def enqueue(self , x):\n",
    "        # add x to rear; print on overflow\n",
    "        if self.is_full():\n",
    "            print(\"OverFlow\")\n",
    "            return None\n",
    "        self.rear = (self.rear + 1) % self.size\n",
    "        self.items[self.rear] = x\n",
    "        self.count+=1\n",
    "        return True\n",
    "    def dequeue(self):\n",
    "        # remove and return front item; print on underflow\n",
    "        if self.is_empty():\n",
    "            print(\"UnderFlow\")\n",
    "            return None\n",
    "        val = self.items[self.front]\n",
    "        self.front = (self.front + 1) % self.size\n",
    "        self.count -=1\n",
    "        return val\n",
    "    def front_val(self):\n",
    "        # peek at front without removing\n",
    "        if self.is_empty():\n",
    "            return None\n",
    "        return self.items[self.front]\n",
    "    \n",
    "    def to_list(self):\n",
    "        # return logical contents in order from front to rear\n",
    "        res = []\n",
    "        idx = self.front\n",
    "        for i in range (self.count):\n",
    "            res.append(self.items[idx])\n",
    "            idx = (idx + 1) % self.size\n",
    "        return res\n",
    "\n",
    "# demo usage\n",
    "cq = CircularQueue(5)\n",
    "for x in [10, 20, 30, 40]:\n",
    "    cq.enqueue(x)\n",
    "print('start ->', cq.to_list()) # [10,20,30,40]\n",
    "print('dequeue ->', cq.dequeue()) # remove 10\n",
    "print('dequeue ->', cq.dequeue()) # remove 20\n",
    "print('mid ->', cq.to_list()) # [30,40]\n",
    "cq.enqueue(50); cq.enqueue(60) # should wrap when needed\n",
    "print('after ->', cq.to_list()) # [30,40,50,60]\n",
    "print('front ->', cq.front_val())\n",
    "print('state ->', 'front=', cq.front, 'rear=', cq.rear, 'count=', cq.count)\n",
    "# ...existing code..."
   ]
  },
  {
   "cell_type": "markdown",
   "id": "63c29986-2e51-48df-a519-e7e698883d1d",
   "metadata": {},
   "source": [
    "# Task 5"
   ]
  },
  {
   "cell_type": "code",
   "execution_count": 16,
   "id": "6d723ebe-8332-43a9-9735-a033b25e9086",
   "metadata": {},
   "outputs": [
    {
     "name": "stdout",
     "output_type": "stream",
     "text": [
      "Icoming jobs: ['J1', 'J2', 'J3', 'J4', 'J5']\n",
      "OverFlow\n",
      "Queue full J5 drpped\n",
      "serviced order: ['J1', 'J2', 'J3', 'J4']\n"
     ]
    }
   ],
   "source": [
    "def run_printer_sim(jobs , capacity=8):\n",
    "    q = CircularQueue(capacity)\n",
    "    print(f\"Icoming jobs: {jobs}\")\n",
    "    for j in jobs:\n",
    "        if not q.enqueue(j):\n",
    "            print(f\"Queue full {j} drpped\")\n",
    "    serviced = []\n",
    "    while not q.is_empty():\n",
    "        serviced.append(q.dequeue())\n",
    "    print(f\"serviced order: {serviced}\")\n",
    "    return serviced\n",
    "\n",
    "jobs = [\"J1\",\"J2\",\"J3\",\"J4\",\"J5\"]\n",
    "serviced = run_printer_sim(jobs, capacity=4)"
   ]
  }
 ],
 "metadata": {
  "kernelspec": {
   "display_name": "Python 3 (ipykernel)",
   "language": "python",
   "name": "python3"
  },
  "language_info": {
   "codemirror_mode": {
    "name": "ipython",
    "version": 3
   },
   "file_extension": ".py",
   "mimetype": "text/x-python",
   "name": "python",
   "nbconvert_exporter": "python",
   "pygments_lexer": "ipython3",
   "version": "3.13.5"
  }
 },
 "nbformat": 4,
 "nbformat_minor": 5
}
