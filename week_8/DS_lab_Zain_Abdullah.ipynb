{
 "cells": [
  {
   "cell_type": "markdown",
   "id": "8659b404-1e85-4037-b84e-7d0f2624988b",
   "metadata": {},
   "source": [
    "# Task 1"
   ]
  },
  {
   "cell_type": "code",
   "execution_count": 3,
   "id": "a66e29b5-651e-4316-82fa-55ea3a6375b5",
   "metadata": {},
   "outputs": [
    {
     "name": "stdout",
     "output_type": "stream",
     "text": [
      "Zayn joined th line\n",
      "Usman joined th line\n",
      "Sameer joined th line\n",
      "Current Qeue:  ['Zayn', 'Usman', 'Sameer']\n",
      "Zayn is being served\n",
      "Current Qeue:  ['Usman', 'Sameer']\n",
      "2 number of customer are waiting....\n"
     ]
    }
   ],
   "source": [
    "from collections import deque\n",
    "\n",
    "class BankQeue:\n",
    "    def __init__(self):\n",
    "        self.qeue = deque()\n",
    "    def arrive(self , costumer):\n",
    "        self.qeue.append(costumer)\n",
    "        print(f\"{costumer} joined th line\")\n",
    "\n",
    "    def serve(self):\n",
    "        if self.qeue:\n",
    "            served = self.qeue.popleft()\n",
    "            print(f\"{served} is being served\")\n",
    "        else:\n",
    "            print(\"No customers left\")\n",
    "            return None\n",
    "    def show(self):\n",
    "        print(\"Current Qeue: \", list(self.qeue))\n",
    "\n",
    "\n",
    "bank = BankQeue()\n",
    "bank.arrive(\"Zayn\")\n",
    "bank.arrive(\"Usman\")\n",
    "bank.arrive(\"Sameer\")\n",
    "bank.show()\n",
    "bank.serve()\n",
    "bank.show()\n",
    "print(f\"{len(bank.qeue)} number of customer are waiting....\")"
   ]
  },
  {
   "cell_type": "markdown",
   "id": "5a680d9b",
   "metadata": {},
   "source": [
    "# TAsk 2"
   ]
  },
  {
   "cell_type": "code",
   "execution_count": 4,
   "id": "6aea0131",
   "metadata": {},
   "outputs": [
    {
     "name": "stdout",
     "output_type": "stream",
     "text": [
      "Added 'normal cos' with priority 3\n",
      "Added 'Vip cos' with priority 1\n",
      "Added 'Senior citizen' with priority 2\n",
      "current taks: [(1, 'Vip cos'), (3, 'normal cos'), (2, 'Senior citizen')]\n",
      "Serving 'Vip cos' (priority 1)\n",
      "Serving 'Senior citizen' (priority 2)\n",
      "Serving 'normal cos' (priority 3)\n",
      "No task left\n",
      "current taks: []\n"
     ]
    }
   ],
   "source": [
    "import heapq\n",
    "class PriorityQeue:\n",
    "    def __init__(self):\n",
    "        self.qeue = []\n",
    "    def add_task(self , priority , task):\n",
    "        heapq.heappush(self.qeue , (priority , task))\n",
    "        print(f\"Added '{task}' with priority {priority}\")\n",
    "    \n",
    "    def serve_task(self):\n",
    "        if self.qeue:\n",
    "            priority , task = heapq.heappop(self.qeue)\n",
    "            print(f\"Serving '{task}' (priority {priority})\")\n",
    "            return task\n",
    "        else:\n",
    "            print(\"No task left\")\n",
    "            return None\n",
    "    def show(self):\n",
    "        print(\"current taks:\" , self.qeue)\n",
    "\n",
    "pq = PriorityQeue()\n",
    "pq.add_task(3, \"normal cos\")\n",
    "pq.add_task(1 ,  \"Vip cos\")\n",
    "pq.add_task(2 , \"Senior citizen\")\n",
    "\n",
    "pq.show()\n",
    "while True:\n",
    "    served = pq.serve_task()\n",
    "    if served is None:\n",
    "        break\n",
    "pq.show()\n"
   ]
  },
  {
   "cell_type": "markdown",
   "id": "0ff0d2e9",
   "metadata": {},
   "source": [
    "# Task 3"
   ]
  },
  {
   "cell_type": "code",
   "execution_count": 2,
   "id": "73c2df91",
   "metadata": {},
   "outputs": [
    {
     "name": "stdin",
     "output_type": "stream",
     "text": [
      "How many task you want to add: 2\n",
      "ENter name of client: zayn\n",
      "Enter its Priority '+' for urgent and '-' for normal: +\n"
     ]
    },
    {
     "name": "stdout",
     "output_type": "stream",
     "text": [
      "Added tadk 'zayn' with sign '+' (mapped priority=+)\n",
      "Qeue Status:  [(1, 'zayn')]\n"
     ]
    },
    {
     "name": "stdin",
     "output_type": "stream",
     "text": [
      "ENter name of client: zani\n",
      "Enter its Priority '+' for urgent and '-' for normal: -\n"
     ]
    },
    {
     "name": "stdout",
     "output_type": "stream",
     "text": [
      "Added tadk 'zani' with sign '-' (mapped priority=-)\n",
      "Qeue Status:  [(1, 'zayn'), (2, 'zani')]\n",
      "Serving 'zayn' (priority sign +)\n",
      "Qeue Status:  [(2, 'zani')]\n"
     ]
    }
   ],
   "source": [
    "import heapq\n",
    "class SignPriorityQeue:\n",
    "    def __init__(self):\n",
    "        self.qeue = []\n",
    "    \n",
    "    def add_task(self , task , sign):\n",
    "        priority = 1 if sign == '+' else 2\n",
    "        heapq.heappush(self.qeue, (priority , task))\n",
    "        print(f\"Added tadk '{task}' with sign '{sign}' (mapped priority={sign})\")\n",
    "\n",
    "    def serve_task(self):\n",
    "        if self.qeue:\n",
    "            priority , task = heapq.heappop(self.qeue)\n",
    "            sign = '+' if priority == 1 else '-'\n",
    "            print(f\"Serving '{task}' (priority sign {sign})\")\n",
    "            return task , sign\n",
    "        else:\n",
    "            print(\"No tasks left\")\n",
    "            return None\n",
    "        \n",
    "    def show(self):\n",
    "        print(\"Qeue Status: \" , self.qeue)\n",
    "\n",
    "    \n",
    "# Demo_______________________________________________>\n",
    "spq = SignPriorityQeue()\n",
    "n = int(input(\"How many task you want to add:\"))\n",
    "for i in range(n):\n",
    "    task = input(\"ENter name of client:\")\n",
    "    sign = input(\"Enter its Priority '+' for urgent and '-' for normal:\")\n",
    "    spq.add_task(task , sign)\n",
    "    spq.show()\n",
    "\n",
    "spq.serve_task()\n",
    "spq.show()\n",
    "    "
   ]
  },
  {
   "cell_type": "markdown",
   "id": "8d9b33ed",
   "metadata": {},
   "source": [
    "# Task 4"
   ]
  },
  {
   "cell_type": "code",
   "execution_count": 22,
   "id": "18bc41e1",
   "metadata": {},
   "outputs": [
    {
     "name": "stdout",
     "output_type": "stream",
     "text": [
      "Ali arrived as NORMAL (-)\n",
      "Sara arrived as NORMAL (-)\n",
      "Zayn ariived as URGENT (+)\n",
      "Noor arrived as NORMAL (-)\n",
      "Zani ariived as URGENT (+)\n",
      "Usman arrived as NORMAL (-)\n",
      "Uchiha ariived as URGENT (+)\n",
      "urgent (+) heap:  [(1, 'Uchiha'), (1, 'Zayn'), (1, 'Zani')]\n",
      "Normal (-) qeue:  ['Ali', 'Sara', 'Noor', 'Usman']\n",
      "Serving URGENT (+): Uchiha\n",
      "Serving URGENT (+): Zani\n",
      "Serving URGENT (+): Zayn\n",
      "Serving NORMAL (-): Ali\n",
      "Serving NORMAL (-): Sara\n",
      "Serving NORMAL (-): Noor\n",
      "Serving NORMAL (-): Usman\n",
      "No costumer to serve!\n",
      "urgent (+) heap:  []\n",
      "Normal (-) qeue:  []\n"
     ]
    }
   ],
   "source": [
    "from collections import deque\n",
    "import heapq\n",
    "class MixedServiceDesk:\n",
    "    def __init__(self):\n",
    "        self.normal = deque()\n",
    "        self.urgent = []\n",
    "    \n",
    "    def  arrive(self , name  , sign='-'):\n",
    "        if sign == '+':\n",
    "            heapq.heappush(self.urgent , (1 , name))\n",
    "            print(f\"{name} ariived as URGENT (+)\")\n",
    "        else:\n",
    "            self.normal.append(name)\n",
    "            print(f\"{name} arrived as NORMAL (-)\")\n",
    "\n",
    "    def serve(self):\n",
    "        if self.urgent:\n",
    "             _ , name = heapq.heappop(self.urgent)\n",
    "             print(f\"Serving URGENT (+): {name}\" )\n",
    "             return name , '+'\n",
    "        elif self.normal:\n",
    "            name = self.normal.popleft()\n",
    "            print(f\"Serving NORMAL (-): {name}\")\n",
    "            return name , '-'\n",
    "        else:\n",
    "            print(\"No costumer to serve!\")\n",
    "            return None\n",
    "        \n",
    "    def show(self):\n",
    "        print(\"urgent (+) heap: \" , self.urgent)\n",
    "        print(\"Normal (-) qeue: \" ,list(self.normal))\n",
    "\n",
    "\n",
    "# Demo---------------------------->\n",
    "desk = MixedServiceDesk()\n",
    "desk.arrive('Ali' , '-')\n",
    "desk.arrive(\"Sara\" , '-')\n",
    "desk.arrive('Zayn' , '+')\n",
    "desk.arrive('Noor' , '-')\n",
    "desk.arrive(\"Zani\" , '+')\n",
    "desk.arrive(\"Usman\" , '-')\n",
    "desk.arrive(\"Uchiha\" , '+')\n",
    "\n",
    "\n",
    "\n",
    "desk.show()\n",
    "\n",
    "while True:\n",
    "    served = desk.serve()\n",
    "    if served is None:\n",
    "        break\n",
    "\n",
    "    \n",
    "desk.show()"
   ]
  },
  {
   "cell_type": "markdown",
   "id": "e4937780",
   "metadata": {},
   "source": [
    "# Home Work"
   ]
  },
  {
   "cell_type": "code",
   "execution_count": 21,
   "id": "713db5fd",
   "metadata": {},
   "outputs": [
    {
     "name": "stdout",
     "output_type": "stream",
     "text": [
      "How can I change my password? arrived as NORMAL (-)\n",
      "My payment failed! ariived as URGENT (+)\n",
      "Can I cancel my order? arrived as NORMAL (-)\n",
      "Website not loading! ariived as URGENT (+)\n",
      "What are your business hours? arrived as NORMAL (-)\n",
      "urgent (+) heap:  [(1, 'My payment failed!'), (1, 'Website not loading!')]\n",
      "Normal (-) qeue:  ['How can I change my password?', 'Can I cancel my order?', 'What are your business hours?']\n",
      "Serving URGENT (+): My payment failed!\n",
      "Serving URGENT (+): Website not loading!\n",
      "Serving NORMAL (-): How can I change my password?\n",
      "Serving NORMAL (-): Can I cancel my order?\n",
      "Serving NORMAL (-): What are your business hours?\n",
      "No costumer to serve!\n"
     ]
    }
   ],
   "source": [
    "# instead creating of new class we already create a basic class for our task\n",
    "\n",
    "bot = MixedServiceDesk()\n",
    "\n",
    "bot.arrive(\"How can I change my password?\", '-')\n",
    "bot.arrive(\"My payment failed!\", '+')\n",
    "bot.arrive(\"Can I cancel my order?\", '-')\n",
    "bot.arrive(\"Website not loading!\", '+')\n",
    "bot.arrive(\"What are your business hours?\", '-')\n",
    "bot.show()\n",
    "\n",
    "\n",
    "while True:\n",
    "    served = bot.serve()\n",
    "    if served is None:\n",
    "        break"
   ]
  },
  {
   "cell_type": "code",
   "execution_count": null,
   "id": "403bfc78",
   "metadata": {},
   "outputs": [],
   "source": []
  }
 ],
 "metadata": {
  "kernelspec": {
   "display_name": "Python 3 (ipykernel)",
   "language": "python",
   "name": "python3"
  },
  "language_info": {
   "codemirror_mode": {
    "name": "ipython",
    "version": 3
   },
   "file_extension": ".py",
   "mimetype": "text/x-python",
   "name": "python",
   "nbconvert_exporter": "python",
   "pygments_lexer": "ipython3",
   "version": "3.13.5"
  }
 },
 "nbformat": 4,
 "nbformat_minor": 5
}
